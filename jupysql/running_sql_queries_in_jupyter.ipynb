{
 "cells": [
  {
   "cell_type": "markdown",
   "id": "7f6015c6",
   "metadata": {},
   "source": [
    "# Running SQL queries in Jupyter: A \"magical\" Adventure with JupySQL"
   ]
  },
  {
   "cell_type": "markdown",
   "id": "7dae2fd1",
   "metadata": {},
   "source": [
    "Read this notebook if you're looking for answers to one or both of the following -\n",
    "1. I have a humongos dataset that won't fit into my computer's memory.\n",
    "2. I have a smallish datatset but am still running out of memory after applying several transformations.\n",
    "\n",
    "TL;DR:\n",
    "[JupySQL](https://github.com/ploomber/jupysql) to the rescue! You can now run SQL queries easily on the database server and plot results on your local machine with minimal code (and memory) overhead. \n",
    "\n"
   ]
  },
  {
   "cell_type": "markdown",
   "id": "43ec2dc9",
   "metadata": {},
   "source": [
    "## Can't I use pandas?\n",
    "Pandas was my go-to choice for data manipulation and analysis throughout school life. Those were the days when the datasets would neatly fit on my computer and needed minimal cleaning/transformations. But as the cliche goes, the industry is a very different world where the opposite is often true. Tasks involving heavy data cleaning and transformations is routine where in you might start with a dataset that fits in memory but after several operations blows up the memory, or you need to work with a dataset that refuses to fit into memory in the first place.  \n"
   ]
  },
  {
   "cell_type": "markdown",
   "id": "23188aa8",
   "metadata": {},
   "source": [
    "<img src=\"jupysql-matrix.png\" alt=\"Matrix\" style=\"width: 500px;\"/>"
   ]
  },
  {
   "cell_type": "markdown",
   "id": "cbbec802",
   "metadata": {},
   "source": [
    "The bottom-left corner of the matrix is where you're in the blissful world of pandas. Everyone else, meet your new friend JupySQL! Using SQL magic functions, you can analyze and plot data with minimal code ✨\n",
    "\n",
    "But I already have a friend and her name is SQLAlchemy you say? If you want to create plots from your data, SQLAlchemy can really make you work for it, as you will see in a bit. \n"
   ]
  },
  {
   "cell_type": "markdown",
   "id": "5a211bfc",
   "metadata": {},
   "source": [
    "Let's compare pandas and JupySQL by taking a look at a simple query and some simple plots on [NYC taxi data](https://www.nyc.gov/site/tlc/about/tlc-trip-record-data.page). This dataset contains ~1.4 million rows and 19 columns."
   ]
  },
  {
   "cell_type": "markdown",
   "id": "0e27c3af",
   "metadata": {},
   "source": [
    "Let's check out pandas first..."
   ]
  },
  {
   "cell_type": "markdown",
   "id": "07b3d071",
   "metadata": {},
   "source": [
    "## SQL querying with pandas"
   ]
  },
  {
   "cell_type": "code",
   "execution_count": 3,
   "id": "a8c8dd82",
   "metadata": {},
   "outputs": [
    {
     "name": "stdout",
     "output_type": "stream",
     "text": [
      "Note: you may need to restart the kernel to use updated packages.\n"
     ]
    }
   ],
   "source": [
    "%pip install pandas pandasql pyarrow --quiet"
   ]
  },
  {
   "cell_type": "code",
   "execution_count": 4,
   "id": "659489d0",
   "metadata": {},
   "outputs": [],
   "source": [
    "from pathlib import Path\n",
    "from urllib.request import urlretrieve\n",
    "import os\n",
    "\n",
    "url = \"https://d37ci6vzurychx.cloudfront.net/trip-data/yellow_tripdata_2021-01.parquet\"\n",
    "\n",
    "if not Path(\"yellow_tripdata_2021-01.parquet\").is_file():\n",
    "    urlretrieve(url, \"yellow_tripdata_2021-01.parquet\")\n",
    "    os.rename(\"yellow_tripdata_2021-01.parquet\", \"yellow_tripdata_2021.parquet\")"
   ]
  },
  {
   "cell_type": "markdown",
   "id": "9c029274",
   "metadata": {},
   "source": [
    "Let's keep a check on memory used as we go. We'll use the %memit magic function for this."
   ]
  },
  {
   "cell_type": "code",
   "execution_count": 23,
   "id": "07833fee",
   "metadata": {
    "scrolled": true
   },
   "outputs": [
    {
     "name": "stdout",
     "output_type": "stream",
     "text": [
      "Note: you may need to restart the kernel to use updated packages.\n",
      "The memory_profiler extension is already loaded. To reload it, use:\n",
      "  %reload_ext memory_profiler\n"
     ]
    }
   ],
   "source": [
    "%pip install line-profiler --quiet\n",
    "%load_ext memory_profiler"
   ]
  },
  {
   "cell_type": "code",
   "execution_count": 6,
   "id": "a0a79a34",
   "metadata": {
    "scrolled": false
   },
   "outputs": [],
   "source": [
    "import pandas as pd\n",
    "from pandasql import sqldf"
   ]
  },
  {
   "cell_type": "code",
   "execution_count": 7,
   "id": "9eec4c6f",
   "metadata": {
    "scrolled": true
   },
   "outputs": [
    {
     "name": "stdout",
     "output_type": "stream",
     "text": [
      "peak memory: 585.66 MiB, increment: 454.79 MiB\n"
     ]
    }
   ],
   "source": [
    "%memit df = pd.read_parquet(\"./yellow_tripdata_2021.parquet\")"
   ]
  },
  {
   "cell_type": "code",
   "execution_count": 8,
   "id": "d017ace5",
   "metadata": {},
   "outputs": [
    {
     "data": {
      "text/html": [
       "<div>\n",
       "<style scoped>\n",
       "    .dataframe tbody tr th:only-of-type {\n",
       "        vertical-align: middle;\n",
       "    }\n",
       "\n",
       "    .dataframe tbody tr th {\n",
       "        vertical-align: top;\n",
       "    }\n",
       "\n",
       "    .dataframe thead th {\n",
       "        text-align: right;\n",
       "    }\n",
       "</style>\n",
       "<table border=\"1\" class=\"dataframe\">\n",
       "  <thead>\n",
       "    <tr style=\"text-align: right;\">\n",
       "      <th></th>\n",
       "      <th>VendorID</th>\n",
       "      <th>tpep_pickup_datetime</th>\n",
       "      <th>tpep_dropoff_datetime</th>\n",
       "      <th>passenger_count</th>\n",
       "      <th>trip_distance</th>\n",
       "      <th>RatecodeID</th>\n",
       "      <th>store_and_fwd_flag</th>\n",
       "      <th>PULocationID</th>\n",
       "      <th>DOLocationID</th>\n",
       "      <th>payment_type</th>\n",
       "      <th>fare_amount</th>\n",
       "      <th>extra</th>\n",
       "      <th>mta_tax</th>\n",
       "      <th>tip_amount</th>\n",
       "      <th>tolls_amount</th>\n",
       "      <th>improvement_surcharge</th>\n",
       "      <th>total_amount</th>\n",
       "      <th>congestion_surcharge</th>\n",
       "      <th>airport_fee</th>\n",
       "    </tr>\n",
       "  </thead>\n",
       "  <tbody>\n",
       "    <tr>\n",
       "      <th>0</th>\n",
       "      <td>1</td>\n",
       "      <td>2021-01-01 00:30:10</td>\n",
       "      <td>2021-01-01 00:36:12</td>\n",
       "      <td>1.0</td>\n",
       "      <td>2.10</td>\n",
       "      <td>1.0</td>\n",
       "      <td>N</td>\n",
       "      <td>142</td>\n",
       "      <td>43</td>\n",
       "      <td>2</td>\n",
       "      <td>8.0</td>\n",
       "      <td>3.0</td>\n",
       "      <td>0.5</td>\n",
       "      <td>0.00</td>\n",
       "      <td>0.0</td>\n",
       "      <td>0.3</td>\n",
       "      <td>11.80</td>\n",
       "      <td>2.5</td>\n",
       "      <td>NaN</td>\n",
       "    </tr>\n",
       "    <tr>\n",
       "      <th>1</th>\n",
       "      <td>1</td>\n",
       "      <td>2021-01-01 00:51:20</td>\n",
       "      <td>2021-01-01 00:52:19</td>\n",
       "      <td>1.0</td>\n",
       "      <td>0.20</td>\n",
       "      <td>1.0</td>\n",
       "      <td>N</td>\n",
       "      <td>238</td>\n",
       "      <td>151</td>\n",
       "      <td>2</td>\n",
       "      <td>3.0</td>\n",
       "      <td>0.5</td>\n",
       "      <td>0.5</td>\n",
       "      <td>0.00</td>\n",
       "      <td>0.0</td>\n",
       "      <td>0.3</td>\n",
       "      <td>4.30</td>\n",
       "      <td>0.0</td>\n",
       "      <td>NaN</td>\n",
       "    </tr>\n",
       "    <tr>\n",
       "      <th>2</th>\n",
       "      <td>1</td>\n",
       "      <td>2021-01-01 00:43:30</td>\n",
       "      <td>2021-01-01 01:11:06</td>\n",
       "      <td>1.0</td>\n",
       "      <td>14.70</td>\n",
       "      <td>1.0</td>\n",
       "      <td>N</td>\n",
       "      <td>132</td>\n",
       "      <td>165</td>\n",
       "      <td>1</td>\n",
       "      <td>42.0</td>\n",
       "      <td>0.5</td>\n",
       "      <td>0.5</td>\n",
       "      <td>8.65</td>\n",
       "      <td>0.0</td>\n",
       "      <td>0.3</td>\n",
       "      <td>51.95</td>\n",
       "      <td>0.0</td>\n",
       "      <td>NaN</td>\n",
       "    </tr>\n",
       "    <tr>\n",
       "      <th>3</th>\n",
       "      <td>1</td>\n",
       "      <td>2021-01-01 00:15:48</td>\n",
       "      <td>2021-01-01 00:31:01</td>\n",
       "      <td>0.0</td>\n",
       "      <td>10.60</td>\n",
       "      <td>1.0</td>\n",
       "      <td>N</td>\n",
       "      <td>138</td>\n",
       "      <td>132</td>\n",
       "      <td>1</td>\n",
       "      <td>29.0</td>\n",
       "      <td>0.5</td>\n",
       "      <td>0.5</td>\n",
       "      <td>6.05</td>\n",
       "      <td>0.0</td>\n",
       "      <td>0.3</td>\n",
       "      <td>36.35</td>\n",
       "      <td>0.0</td>\n",
       "      <td>NaN</td>\n",
       "    </tr>\n",
       "    <tr>\n",
       "      <th>4</th>\n",
       "      <td>2</td>\n",
       "      <td>2021-01-01 00:31:49</td>\n",
       "      <td>2021-01-01 00:48:21</td>\n",
       "      <td>1.0</td>\n",
       "      <td>4.94</td>\n",
       "      <td>1.0</td>\n",
       "      <td>N</td>\n",
       "      <td>68</td>\n",
       "      <td>33</td>\n",
       "      <td>1</td>\n",
       "      <td>16.5</td>\n",
       "      <td>0.5</td>\n",
       "      <td>0.5</td>\n",
       "      <td>4.06</td>\n",
       "      <td>0.0</td>\n",
       "      <td>0.3</td>\n",
       "      <td>24.36</td>\n",
       "      <td>2.5</td>\n",
       "      <td>NaN</td>\n",
       "    </tr>\n",
       "  </tbody>\n",
       "</table>\n",
       "</div>"
      ],
      "text/plain": [
       "   VendorID tpep_pickup_datetime tpep_dropoff_datetime  passenger_count  \\\n",
       "0         1  2021-01-01 00:30:10   2021-01-01 00:36:12              1.0   \n",
       "1         1  2021-01-01 00:51:20   2021-01-01 00:52:19              1.0   \n",
       "2         1  2021-01-01 00:43:30   2021-01-01 01:11:06              1.0   \n",
       "3         1  2021-01-01 00:15:48   2021-01-01 00:31:01              0.0   \n",
       "4         2  2021-01-01 00:31:49   2021-01-01 00:48:21              1.0   \n",
       "\n",
       "   trip_distance  RatecodeID store_and_fwd_flag  PULocationID  DOLocationID  \\\n",
       "0           2.10         1.0                  N           142            43   \n",
       "1           0.20         1.0                  N           238           151   \n",
       "2          14.70         1.0                  N           132           165   \n",
       "3          10.60         1.0                  N           138           132   \n",
       "4           4.94         1.0                  N            68            33   \n",
       "\n",
       "   payment_type  fare_amount  extra  mta_tax  tip_amount  tolls_amount  \\\n",
       "0             2          8.0    3.0      0.5        0.00           0.0   \n",
       "1             2          3.0    0.5      0.5        0.00           0.0   \n",
       "2             1         42.0    0.5      0.5        8.65           0.0   \n",
       "3             1         29.0    0.5      0.5        6.05           0.0   \n",
       "4             1         16.5    0.5      0.5        4.06           0.0   \n",
       "\n",
       "   improvement_surcharge  total_amount  congestion_surcharge  airport_fee  \n",
       "0                    0.3         11.80                   2.5          NaN  \n",
       "1                    0.3          4.30                   0.0          NaN  \n",
       "2                    0.3         51.95                   0.0          NaN  \n",
       "3                    0.3         36.35                   0.0          NaN  \n",
       "4                    0.3         24.36                   2.5          NaN  "
      ]
     },
     "execution_count": 8,
     "metadata": {},
     "output_type": "execute_result"
    }
   ],
   "source": [
    "df.head()"
   ]
  },
  {
   "cell_type": "code",
   "execution_count": 9,
   "id": "2635a04e",
   "metadata": {
    "scrolled": true
   },
   "outputs": [
    {
     "name": "stdout",
     "output_type": "stream",
     "text": [
      "peak memory: 3307.89 MiB, increment: 2721.77 MiB\n"
     ]
    }
   ],
   "source": [
    "%%memit\n",
    "# This query computes the total and average amount spent based on the number of passengers in a taxi\n",
    "query = \"SELECT DISTINCT passenger_count, ROUND(SUM(fare_amount), 0) as TotalFares, ROUND(AVG(fare_amount), 0) as AvgFares from df GROUP BY passenger_count ORDER BY AvgFares DESC\"\n",
    "result = sqldf(query)"
   ]
  },
  {
   "cell_type": "markdown",
   "id": "b66518bd",
   "metadata": {},
   "source": [
    "As you can see, the memory consumed in the above operation is many times higher than the file size. Pandas is notorious for having high memory overheads that can result in Out-of-memory (OOM) issues for even medium sized datasets."
   ]
  },
  {
   "cell_type": "code",
   "execution_count": 10,
   "id": "d756f182",
   "metadata": {},
   "outputs": [
    {
     "data": {
      "text/html": [
       "<div>\n",
       "<style scoped>\n",
       "    .dataframe tbody tr th:only-of-type {\n",
       "        vertical-align: middle;\n",
       "    }\n",
       "\n",
       "    .dataframe tbody tr th {\n",
       "        vertical-align: top;\n",
       "    }\n",
       "\n",
       "    .dataframe thead th {\n",
       "        text-align: right;\n",
       "    }\n",
       "</style>\n",
       "<table border=\"1\" class=\"dataframe\">\n",
       "  <thead>\n",
       "    <tr style=\"text-align: right;\">\n",
       "      <th></th>\n",
       "      <th>passenger_count</th>\n",
       "      <th>TotalFares</th>\n",
       "      <th>AvgFares</th>\n",
       "    </tr>\n",
       "  </thead>\n",
       "  <tbody>\n",
       "    <tr>\n",
       "      <th>0</th>\n",
       "      <td>7.0</td>\n",
       "      <td>298.0</td>\n",
       "      <td>60.0</td>\n",
       "    </tr>\n",
       "    <tr>\n",
       "      <th>1</th>\n",
       "      <td>NaN</td>\n",
       "      <td>2565865.0</td>\n",
       "      <td>26.0</td>\n",
       "    </tr>\n",
       "    <tr>\n",
       "      <th>2</th>\n",
       "      <td>4.0</td>\n",
       "      <td>191410.0</td>\n",
       "      <td>12.0</td>\n",
       "    </tr>\n",
       "    <tr>\n",
       "      <th>3</th>\n",
       "      <td>8.0</td>\n",
       "      <td>22.0</td>\n",
       "      <td>11.0</td>\n",
       "    </tr>\n",
       "    <tr>\n",
       "      <th>4</th>\n",
       "      <td>6.0</td>\n",
       "      <td>270645.0</td>\n",
       "      <td>11.0</td>\n",
       "    </tr>\n",
       "    <tr>\n",
       "      <th>5</th>\n",
       "      <td>5.0</td>\n",
       "      <td>342763.0</td>\n",
       "      <td>11.0</td>\n",
       "    </tr>\n",
       "    <tr>\n",
       "      <th>6</th>\n",
       "      <td>3.0</td>\n",
       "      <td>497113.0</td>\n",
       "      <td>11.0</td>\n",
       "    </tr>\n",
       "    <tr>\n",
       "      <th>7</th>\n",
       "      <td>2.0</td>\n",
       "      <td>1851011.0</td>\n",
       "      <td>11.0</td>\n",
       "    </tr>\n",
       "    <tr>\n",
       "      <th>8</th>\n",
       "      <td>1.0</td>\n",
       "      <td>10556091.0</td>\n",
       "      <td>11.0</td>\n",
       "    </tr>\n",
       "    <tr>\n",
       "      <th>9</th>\n",
       "      <td>0.0</td>\n",
       "      <td>294371.0</td>\n",
       "      <td>11.0</td>\n",
       "    </tr>\n",
       "  </tbody>\n",
       "</table>\n",
       "</div>"
      ],
      "text/plain": [
       "   passenger_count  TotalFares  AvgFares\n",
       "0              7.0       298.0      60.0\n",
       "1              NaN   2565865.0      26.0\n",
       "2              4.0    191410.0      12.0\n",
       "3              8.0        22.0      11.0\n",
       "4              6.0    270645.0      11.0\n",
       "5              5.0    342763.0      11.0\n",
       "6              3.0    497113.0      11.0\n",
       "7              2.0   1851011.0      11.0\n",
       "8              1.0  10556091.0      11.0\n",
       "9              0.0    294371.0      11.0"
      ]
     },
     "metadata": {},
     "output_type": "display_data"
    }
   ],
   "source": [
    "display(result)"
   ]
  },
  {
   "cell_type": "markdown",
   "id": "1cbe0712",
   "metadata": {},
   "source": [
    "Next, let's check out histogram plots with pandas ..."
   ]
  },
  {
   "cell_type": "markdown",
   "id": "1f8bcbb9",
   "metadata": {},
   "source": [
    "## Plotting with pandas"
   ]
  },
  {
   "cell_type": "code",
   "execution_count": 11,
   "id": "2b9beb5a",
   "metadata": {},
   "outputs": [],
   "source": [
    "# Only keep fare amounts between 0 - 200\n",
    "df = df[(df['fare_amount'] < 200) & (df['fare_amount'] > 0)]"
   ]
  },
  {
   "cell_type": "code",
   "execution_count": 12,
   "id": "a86b8383",
   "metadata": {
    "scrolled": true
   },
   "outputs": [
    {
     "name": "stdout",
     "output_type": "stream",
     "text": [
      "peak memory: 624.38 MiB, increment: 27.10 MiB\n"
     ]
    },
    {
     "data": {
      "image/png": "[encoded data removed]",
      "text/plain": [
       "<Figure size 640x480 with 1 Axes>"
      ]
     },
     "metadata": {},
     "output_type": "display_data"
    }
   ],
   "source": [
    "%memit df['fare_amount'].hist(bins=20)"
   ]
  },
  {
   "cell_type": "markdown",
   "id": "483fd0d7",
   "metadata": {},
   "source": [
    "## SQL querying with JupySQL's magic functions"
   ]
  },
  {
   "cell_type": "markdown",
   "id": "a08924f1",
   "metadata": {},
   "source": [
    "Let's try the same SQL query and some plotting with JupySQL ...\n",
    "\n",
    "We'll start by setting up a database engine. "
   ]
  },
  {
   "cell_type": "code",
   "execution_count": 13,
   "id": "8ad3d20a",
   "metadata": {},
   "outputs": [
    {
     "name": "stdout",
     "output_type": "stream",
     "text": [
      "Note: you may need to restart the kernel to use updated packages.\n"
     ]
    }
   ],
   "source": [
    "%pip install duckdb-engine jupysql --quiet\n",
    "%load_ext sql\n",
    "%sql duckdb://"
   ]
  },
  {
   "cell_type": "code",
   "execution_count": 14,
   "id": "3cb4c913",
   "metadata": {},
   "outputs": [
    {
     "name": "stdout",
     "output_type": "stream",
     "text": [
      "*  duckdb://\n",
      "Done.\n"
     ]
    },
    {
     "data": {
      "text/html": [
       "<table>\n",
       "    <thead>\n",
       "        <tr>\n",
       "            <th>passenger_count</th>\n",
       "            <th>TotalFares</th>\n",
       "            <th>AvgFares</th>\n",
       "        </tr>\n",
       "    </thead>\n",
       "    <tbody>\n",
       "        <tr>\n",
       "            <td>7.0</td>\n",
       "            <td>298.0</td>\n",
       "            <td>60.0</td>\n",
       "        </tr>\n",
       "        <tr>\n",
       "            <td>None</td>\n",
       "            <td>2565865.0</td>\n",
       "            <td>26.0</td>\n",
       "        </tr>\n",
       "        <tr>\n",
       "            <td>4.0</td>\n",
       "            <td>191410.0</td>\n",
       "            <td>12.0</td>\n",
       "        </tr>\n",
       "        <tr>\n",
       "            <td>1.0</td>\n",
       "            <td>10556091.0</td>\n",
       "            <td>11.0</td>\n",
       "        </tr>\n",
       "        <tr>\n",
       "            <td>0.0</td>\n",
       "            <td>294371.0</td>\n",
       "            <td>11.0</td>\n",
       "        </tr>\n",
       "        <tr>\n",
       "            <td>2.0</td>\n",
       "            <td>1851011.0</td>\n",
       "            <td>11.0</td>\n",
       "        </tr>\n",
       "        <tr>\n",
       "            <td>3.0</td>\n",
       "            <td>497113.0</td>\n",
       "            <td>11.0</td>\n",
       "        </tr>\n",
       "        <tr>\n",
       "            <td>5.0</td>\n",
       "            <td>342763.0</td>\n",
       "            <td>11.0</td>\n",
       "        </tr>\n",
       "        <tr>\n",
       "            <td>6.0</td>\n",
       "            <td>270645.0</td>\n",
       "            <td>11.0</td>\n",
       "        </tr>\n",
       "        <tr>\n",
       "            <td>8.0</td>\n",
       "            <td>22.0</td>\n",
       "            <td>11.0</td>\n",
       "        </tr>\n",
       "    </tbody>\n",
       "</table>"
      ],
      "text/plain": [
       "[(7.0, 298.0, 60.0),\n",
       " (None, 2565865.0, 26.0),\n",
       " (4.0, 191410.0, 12.0),\n",
       " (1.0, 10556091.0, 11.0),\n",
       " (0.0, 294371.0, 11.0),\n",
       " (2.0, 1851011.0, 11.0),\n",
       " (3.0, 497113.0, 11.0),\n",
       " (5.0, 342763.0, 11.0),\n",
       " (6.0, 270645.0, 11.0),\n",
       " (8.0, 22.0, 11.0)]"
      ]
     },
     "execution_count": 14,
     "metadata": {},
     "output_type": "execute_result"
    }
   ],
   "source": [
    "%%sql --save avg_fares\n",
    "SELECT DISTINCT passenger_count, \n",
    "ROUND(SUM(fare_amount), 0) as TotalFares, \n",
    "ROUND(AVG(fare_amount), 0) as AvgFares from yellow_tripdata_2021.parquet \n",
    "GROUP BY passenger_count \n",
    "ORDER BY AvgFares DESC"
   ]
  },
  {
   "cell_type": "markdown",
   "id": "7840a932",
   "metadata": {},
   "source": [
    "In order to check memory consumption, since jupyter does not allow multiple magic functions in the same cell, let's wrap it around a function. "
   ]
  },
  {
   "cell_type": "code",
   "execution_count": 18,
   "id": "da40ff0d",
   "metadata": {},
   "outputs": [],
   "source": [
    "def time_my_query():\n",
    "    query = f'''SELECT DISTINCT passenger_count, \n",
    "            ROUND(SUM(fare_amount), 0) as TotalFares, \n",
    "            ROUND(AVG(fare_amount), 0) as AvgFares from yellow_tripdata_2021.parquet \n",
    "            GROUP BY passenger_count \n",
    "            ORDER BY AvgFares DESC'''\n",
    "    get_ipython().run_cell_magic('sql', '', query)"
   ]
  },
  {
   "cell_type": "code",
   "execution_count": 19,
   "id": "d1e24504",
   "metadata": {
    "scrolled": true
   },
   "outputs": [
    {
     "name": "stdout",
     "output_type": "stream",
     "text": [
      "*  duckdb://\n",
      "Done.\n",
      "peak memory: 629.00 MiB, increment: 0.13 MiB\n"
     ]
    }
   ],
   "source": [
    "%memit time_my_query()"
   ]
  },
  {
   "cell_type": "markdown",
   "id": "32a050e9",
   "metadata": {},
   "source": [
    "Local memory was barely used.\n",
    "\n",
    "*Bonus*:\n",
    "Surprised by this voodoo magic? The SQL engine frees up memory by getting rid of unnecessary data copies after execution, which you'll have to do manually in pandas. It is also much faster than the pandas execution."
   ]
  },
  {
   "cell_type": "markdown",
   "id": "90e732f0",
   "metadata": {},
   "source": [
    "## Plotting with JupySQL"
   ]
  },
  {
   "cell_type": "code",
   "execution_count": 20,
   "id": "7623c423",
   "metadata": {},
   "outputs": [
    {
     "data": {
      "text/plain": [
       "<AxesSubplot:title={'center':\"'fare_amount' from 'yellow_tripdata_2021.parquet'\"}, ylabel='fare_amount'>"
      ]
     },
     "execution_count": 20,
     "metadata": {},
     "output_type": "execute_result"
    },
    {
     "data": {
      "image/png": "[encoded data removed]",
      "text/plain": [
       "<Figure size 640x480 with 1 Axes>"
      ]
     },
     "metadata": {},
     "output_type": "display_data"
    }
   ],
   "source": [
    "%sqlplot boxplot --table yellow_tripdata_2021.parquet --column fare_amount"
   ]
  },
  {
   "cell_type": "code",
   "execution_count": 21,
   "id": "869e7941",
   "metadata": {},
   "outputs": [
    {
     "name": "stdout",
     "output_type": "stream",
     "text": [
      "*  duckdb://\n",
      "Skipping execution...\n"
     ]
    }
   ],
   "source": [
    "%%sql --save taxi_filtered --no-execute\n",
    "SELECT * FROM yellow_tripdata_2021.parquet \n",
    "WHERE fare_amount < 200 \n",
    "AND fare_amount > 0"
   ]
  },
  {
   "cell_type": "code",
   "execution_count": 24,
   "id": "90250b5e",
   "metadata": {
    "scrolled": false
   },
   "outputs": [
    {
     "data": {
      "text/plain": [
       "<AxesSubplot:title={'center':\"'fare_amount' from 'taxi_filtered'\"}, xlabel='fare_amount', ylabel='Count'>"
      ]
     },
     "execution_count": 24,
     "metadata": {},
     "output_type": "execute_result"
    },
    {
     "data": {
      "image/png": "[encoded data removed]",
      "text/plain": [
       "<Figure size 640x480 with 1 Axes>"
      ]
     },
     "metadata": {},
     "output_type": "display_data"
    }
   ],
   "source": [
    "%sqlplot histogram --column fare_amount --bins 20 --table taxi_filtered --with taxi_filtered"
   ]
  },
  {
   "cell_type": "markdown",
   "id": "15c7d582",
   "metadata": {},
   "source": [
    "JupySQL provides lightweight and easy to use plotting functions that work and look similar to matplotlib. "
   ]
  },
  {
   "cell_type": "markdown",
   "id": "f59e7861",
   "metadata": {},
   "source": [
    "... But why can't I use my friend SQLAlchemy? \n",
    "Well you could very well use it, but it does not provide easy to use and memory efficient visualization functions. You'll need to either: \n",
    "- Use matplotlib/seaborn which require loading the data into memory (back to square one with the memory issue)\n",
    "- Or write SQL code that runs on the server side to compute the statistics that these plotting functions perform under the hood, such as computing the percentiles for box plot, bin counts for histogram plot etc., and feed the summarized statistics to matplotlib/seaborn. For example, for the above histrogram plot, you'll need to write an SQL query that creates 20 bins and computes the respective counts on the server side. The 20 bins and their values can then be loaded up into local memory to create a bar plot. That's exactly what JupySQL does for you!"
   ]
  },
  {
   "cell_type": "markdown",
   "id": "1475fe64",
   "metadata": {},
   "source": [
    "It's your turn! Pick your poison wisely - alchemy or magic? "
   ]
  }
 ],
 "metadata": {
  "kernelspec": {
   "display_name": "Python 3 (ipykernel)",
   "language": "python",
   "name": "python3"
  },
  "language_info": {
   "codemirror_mode": {
    "name": "ipython",
    "version": 3
   },
   "file_extension": ".py",
   "mimetype": "text/x-python",
   "name": "python",
   "nbconvert_exporter": "python",
   "pygments_lexer": "ipython3",
   "version": "3.9.13"
  }
 },
 "nbformat": 4,
 "nbformat_minor": 5
}
